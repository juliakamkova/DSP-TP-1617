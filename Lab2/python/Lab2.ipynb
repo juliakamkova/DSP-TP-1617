{
 "cells": [
  {
   "cell_type": "markdown",
   "metadata": {},
   "source": [
    "# Digital Signal Processing\n",
    "\n",
    "### MsCV - ViBOT - MAIA"
   ]
  },
  {
   "cell_type": "code",
   "execution_count": 12,
   "metadata": {
    "collapsed": false
   },
   "outputs": [
    {
     "name": "stdout",
     "output_type": "stream",
     "text": [
      "Pretty printing has been turned ON\n"
     ]
    }
   ],
   "source": [
    "%matplotlib inline\n",
    "%pprint off\n",
    "\n",
    "# To make some nice plot\n",
    "import matplotlib.pyplot as plt\n",
    "# To play with arrays\n",
    "import numpy as np"
   ]
  },
  {
   "cell_type": "markdown",
   "metadata": {},
   "source": [
    "## Reminder 1 "
   ]
  },
  {
   "cell_type": "markdown",
   "metadata": {},
   "source": [
    "Plot $x(t) = sin(2\\pi f t)$,  $f = 1 Hz$"
   ]
  },
  {
   "cell_type": "code",
   "execution_count": 29,
   "metadata": {
    "collapsed": false
   },
   "outputs": [
    {
     "data": {
      "text/plain": [
       "<matplotlib.text.Text at 0x7f35ea22a150>"
      ]
     },
     "execution_count": 29,
     "metadata": {},
     "output_type": "execute_result"
    },
    {
     "data": {
      "image/png": "[encoded data removed]",
      "text/plain": [
       "<matplotlib.figure.Figure at 0x7f35ea2962d0>"
      ]
     },
     "metadata": {},
     "output_type": "display_data"
    }
   ],
   "source": [
    "def sin_fn(freq, perio):\n",
    "   t = np.arange(0, perio, 0.01)\n",
    "   s=np.sin(2*np.pi*freq*t)\n",
    "   return s\n",
    "\n",
    "plt.stem(sin_fn(1, 3))\n",
    "plt.xlabel(r'$x$')\n",
    "plt.ylabel(r'$y$')\n",
    "plt.title('sine function')"
   ]
  },
  {
   "cell_type": "markdown",
   "metadata": {},
   "source": [
    "Plot $x[n] = sin(2\\pi f n)$ with frequency step of $f_s$\n",
    "$$x[n] = sin(2\\pi\\frac{f}{f_s}n)$$"
   ]
  },
  {
   "cell_type": "code",
   "execution_count": 30,
   "metadata": {
    "collapsed": false
   },
   "outputs": [
    {
     "data": {
      "text/plain": [
       "<matplotlib.text.Text at 0x7f35e9c17c90>"
      ]
     },
     "execution_count": 30,
     "metadata": {},
     "output_type": "execute_result"
    },
    {
     "data": {
      "image/png": "[encoded data removed]",
      "text/plain": [
       "<matplotlib.figure.Figure at 0x7f35e9c299d0>"
      ]
     },
     "metadata": {},
     "output_type": "display_data"
    }
   ],
   "source": [
    "def sin_fn_samp(freq, perio, samp_fr):\n",
    "   x= np.arange(0, perio, 1./samp_fr)\n",
    "   s=np.sin(2*np.pi*freq*x)\n",
    "   return s\n",
    "\n",
    "plt.stem(sin_fn_samp(1, 3, 20))\n",
    "plt.xlabel(r'$x$')\n",
    "plt.ylabel(r'$y$')\n",
    "plt.title('sine function')"
   ]
  },
  {
   "cell_type": "markdown",
   "metadata": {},
   "source": [
    "## Exercise 1 - Causality"
   ]
  },
  {
   "cell_type": "markdown",
   "metadata": {},
   "source": [
    " **1.1** Considering the system defined by the equation $y_k=(x_k+x_{k+1})/2$, check its causality property by examining the response to the signal $H(k-4)$ or `step(4,N)`."
   ]
  },
  {
   "cell_type": "code",
   "execution_count": 40,
   "metadata": {
    "collapsed": false
   },
   "outputs": [
    {
     "name": "stdout",
     "output_type": "stream",
     "text": [
      "[ 0.  0.  0.  0.  1.  1.  1.  1.  1.  1.]\n"
     ]
    },
    {
     "data": {
      "text/plain": [
       "<matplotlib.text.Text at 0x7f35e98ecc90>"
      ]
     },
     "execution_count": 40,
     "metadata": {},
     "output_type": "execute_result"
    },
    {
     "data": {
      "image/png": "[encoded data removed]",
      "text/plain": [
       "<matplotlib.figure.Figure at 0x7f35e99f6e10>"
      ]
     },
     "metadata": {},
     "output_type": "display_data"
    }
   ],
   "source": [
    "def step(n=0, N=20):\n",
    "    if n>(N-1):\n",
    "        raise ValueError ('n should be infrior to N-1')\n",
    "    s=np.zeros((N, ))\n",
    "    for i in range(n,N):\n",
    "        s[i]=1;\n",
    "    print s\n",
    "    return s\n",
    "N = 10\n",
    "y=np.zeros((N,))\n",
    "\n",
    "s = step(4,N)\n",
    "for i in range (0, N-1):\n",
    "    y[i] =(s[i]+s[i+1])/2\n",
    "\n",
    "plt.stem(y)\n",
    "plt.stem (s, 'r')\n",
    "plt.xlabel(r'$n$')\n",
    "plt.ylabel(r'$\\delta(k-n)$')\n",
    "plt.title('y')\n",
    "\n",
    "\n",
    "        \n",
    "    \n"
   ]
  },
  {
   "cell_type": "markdown",
   "metadata": {},
   "source": [
    "**1.2** Propose a modification to obtain a causal version"
   ]
  },
  {
   "cell_type": "code",
   "execution_count": 41,
   "metadata": {
    "collapsed": false
   },
   "outputs": [
    {
     "name": "stdout",
     "output_type": "stream",
     "text": [
      "[ 0.  0.  0.  0.  1.  1.  1.  1.  1.  1.]\n"
     ]
    },
    {
     "data": {
      "text/plain": [
       "<matplotlib.text.Text at 0x7f35e97a7c10>"
      ]
     },
     "execution_count": 41,
     "metadata": {},
     "output_type": "execute_result"
    },
    {
     "data": {
      "image/png": "[encoded data removed]",
      "text/plain": [
       "<matplotlib.figure.Figure at 0x7f35eba8c750>"
      ]
     },
     "metadata": {},
     "output_type": "display_data"
    }
   ],
   "source": [
    "def step(n=0, N=20):\n",
    "    if n>(N-1):\n",
    "        raise ValueError ('n should be infrior to N-1')\n",
    "    s=np.zeros((N, ))\n",
    "    for i in range(n,N):\n",
    "        s[i]=1;\n",
    "    print s\n",
    "    return s\n",
    "N = 10\n",
    "y=np.zeros((N,))\n",
    "\n",
    "s = step(4,N)\n",
    "for i in range (1, N-1):\n",
    "    y[i] =(s[i]+s[i-1])/2\n",
    "\n",
    "plt.stem(y)\n",
    "plt.stem (s, 'r')\n",
    "plt.xlabel(r'$n$')\n",
    "plt.ylabel(r'$\\delta(k-n)$')\n",
    "plt.title('y')"
   ]
  },
  {
   "cell_type": "markdown",
   "metadata": {},
   "source": [
    "Comments on your observations"
   ]
  },
  {
   "cell_type": "code",
   "execution_count": null,
   "metadata": {
    "collapsed": true
   },
   "outputs": [],
   "source": [
    "Casual system can be depended only from present meaning and past, \n",
    "so for do our system casual we have not use ant future sygnals."
   ]
  },
  {
   "cell_type": "markdown",
   "metadata": {},
   "source": []
  },
  {
   "cell_type": "markdown",
   "metadata": {},
   "source": [
    "## Exercise 2 - stability\n",
    "\n",
    "**2.1** Program the primitive (accumulator) operator `prim(f)` applied on the signal  `f` of length `N`. The value of the vector returned by `prim` at the index `k` will correspond to $F_k$ with `k` $\\leq$ `N`. Note $F_k=\\sum_{q=-\\infty}^{k}f_k$. Discuss on the result of the primitive operator applied to the signal $H(k-4)$. Is the primitive operator stable ?\n",
    "\n"
   ]
  },
  {
   "cell_type": "code",
   "execution_count": null,
   "metadata": {
    "collapsed": false
   },
   "outputs": [],
   "source": []
  },
  {
   "cell_type": "code",
   "execution_count": null,
   "metadata": {
    "collapsed": false
   },
   "outputs": [],
   "source": [
    "\n"
   ]
  },
  {
   "cell_type": "markdown",
   "metadata": {},
   "source": [
    "**2.2** What is the impulse response of the primitive operator (in the discrete domain) ?"
   ]
  },
  {
   "cell_type": "code",
   "execution_count": null,
   "metadata": {
    "collapsed": false
   },
   "outputs": [],
   "source": []
  },
  {
   "cell_type": "markdown",
   "metadata": {},
   "source": [
    "**2.3** Test the stability of the system defined by the equation: $y_k=x_k+2y_{k-1}$. Plot the impulse response."
   ]
  },
  {
   "cell_type": "code",
   "execution_count": null,
   "metadata": {
    "collapsed": false
   },
   "outputs": [],
   "source": [
    "\n"
   ]
  },
  {
   "cell_type": "markdown",
   "metadata": {},
   "source": [
    "**2.4** Test the stability of the system defined by the equation: $y_k=x_k+y_{k-1}/3$. \n",
    "\n",
    "Plot the impulse response."
   ]
  },
  {
   "cell_type": "code",
   "execution_count": null,
   "metadata": {
    "collapsed": false
   },
   "outputs": [],
   "source": []
  },
  {
   "cell_type": "markdown",
   "metadata": {},
   "source": [
    "Comments your observations"
   ]
  },
  {
   "cell_type": "markdown",
   "metadata": {},
   "source": []
  },
  {
   "cell_type": "markdown",
   "metadata": {},
   "source": [
    "## Excercise 3 - Invariance and linearity\n",
    " \n",
    "\n",
    "**3.1** Define the following signals: ${\\tt x_a=[0\\, 0\\,  0 \\, 0 \\, 1 \\, 2 \\, 3 \\, 4 \\, 5 \\, 0 \\, 0 \\, 0 \\, 0\\,  0\\,  0\\,  0\\,  0\\,  0\\,  0]; x_b=[0\\,  0 \\, 0 \\, 0 \\, 0 \\, 0 \\, 0 \\, 0 \\, 0 \\, 4 \\, 3 \\, 2 \\, 1 \\, 0 \\, 0 \\, 0 \\, 0 \\, 0 \\, 0];}$. Compute the responses $y_a$, $y_b$ according to the equation $y=3x_{k-1}-2x_k+x_{k+1}$\n",
    "\n",
    "plot your responses with their corresponding input.\n"
   ]
  },
  {
   "cell_type": "code",
   "execution_count": 66,
   "metadata": {
    "collapsed": false
   },
   "outputs": [
    {
     "data": {
      "text/plain": [
       "<matplotlib.text.Text at 0x7f35e805a650>"
      ]
     },
     "execution_count": 66,
     "metadata": {},
     "output_type": "execute_result"
    },
    {
     "data": {
      "image/png": "[encoded data removed]",
      "text/plain": [
       "<matplotlib.figure.Figure at 0x7f35e8d595d0>"
      ]
     },
     "metadata": {},
     "output_type": "display_data"
    }
   ],
   "source": [
    "xa = np.array ([0,0,0,0,1,2,3,4,5,0,0,0,0,0,0,0,0,0,0])\n",
    "xb = np.array ([0,0,0,0,0,0,0,0,0,4,3,2,1,0,0,0,0,0,0])\n",
    "x = xa+xb\n",
    "N = 19\n",
    "ya = np.zeros((N, ))\n",
    "for idx, i  in enumerate(np.arange(1,(N-1))):\n",
    "    ya[idx] = 3*xa[i-1] - 2*xa[i] + xa[i+1]\n",
    "\n",
    "yb = np.zeros((N, ))\n",
    "for idx, i  in enumerate(np.arange (1,N-1)):\n",
    "    yb[idx] = 3*xb[i-1] - 2*xb[i] + xb[i+1]\n",
    "y= np.zeros ((N, ))\n",
    "for idx, i  in enumerate(np.arange (1,N-1)):\n",
    "    y[idx] = 3*x[i-1] - 2*x[i] + x[i+1]\n",
    "\n",
    "    \n",
    "plt.figure(1)\n",
    "plt.subplot(211)\n",
    "\n",
    "plt.stem (ya, 'b')\n",
    "plt.stem(xa, 'y')\n",
    "plt.xlabel(r'$x$')\n",
    "plt.ylabel(r'$y$')\n",
    "plt.title('ya & xa')  \n",
    "\n",
    "plt.subplot(212)\n",
    "plt.stem (yb, 'b')\n",
    "plt.stem(xb, 'y')\n",
    "plt.xlabel(r'$x$')\n",
    "plt.ylabel(r'$y$')\n",
    "plt.title('yb & xb') \n",
    "\n",
    "\n",
    "\n",
    "    "
   ]
  },
  {
   "cell_type": "markdown",
   "metadata": {},
   "source": [
    "**3.2** Prove the system defined by the previous equation is linear (and invariant). Write the equation as a convolution equation.\n"
   ]
  },
  {
   "cell_type": "code",
   "execution_count": 65,
   "metadata": {
    "collapsed": false
   },
   "outputs": [
    {
     "name": "stdout",
     "output_type": "stream",
     "text": [
      "[ 0.  0.  0.  0.  0.  0.  0.  0.  0.  0.  0.  0.  0.  0.  0.  0.  0.  0.\n",
      "  0.]\n"
     ]
    },
    {
     "data": {
      "text/plain": [
       "<matplotlib.text.Text at 0x7f35e91e9250>"
      ]
     },
     "execution_count": 65,
     "metadata": {},
     "output_type": "execute_result"
    },
    {
     "data": {
      "image/png": "[encoded data removed]",
      "text/plain": [
       "<matplotlib.figure.Figure at 0x7f35e9936c90>"
      ]
     },
     "metadata": {},
     "output_type": "display_data"
    }
   ],
   "source": [
    "print y -(ya+yb)\n",
    "plt.stem (y, 'b')\n",
    "plt.stem(yb+ya, 'y')\n",
    "plt.xlabel(r'$x$')\n",
    "plt.ylabel(r'$y$')\n",
    "plt.title('y & x')  \n",
    "\n"
   ]
  },
  {
   "cell_type": "markdown",
   "metadata": {},
   "source": [
    "**3.3** Propose a nonlinear/noninvariant system."
   ]
  },
  {
   "cell_type": "code",
   "execution_count": null,
   "metadata": {
    "collapsed": false
   },
   "outputs": [],
   "source": []
  }
 ],
 "metadata": {
  "anaconda-cloud": {},
  "kernelspec": {
   "display_name": "Python 2",
   "language": "python",
   "name": "python2"
  },
  "language_info": {
   "codemirror_mode": {
    "name": "ipython",
    "version": 2
   },
   "file_extension": ".py",
   "mimetype": "text/x-python",
   "name": "python",
   "nbconvert_exporter": "python",
   "pygments_lexer": "ipython2",
   "version": "2.7.10"
  }
 },
 "nbformat": 4,
 "nbformat_minor": 1
}
