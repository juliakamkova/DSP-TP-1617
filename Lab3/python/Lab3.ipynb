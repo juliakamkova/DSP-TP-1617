{
 "cells": [
  {
   "cell_type": "markdown",
   "metadata": {},
   "source": [
    "# Digital Signal Processing\n",
    "## Convolution and Correlation\n",
    "\n",
    "### MsCV - ViBOT - MAIA"
   ]
  },
  {
   "cell_type": "code",
   "execution_count": 1,
   "metadata": {
    "collapsed": false
   },
   "outputs": [
    {
     "name": "stdout",
     "output_type": "stream",
     "text": [
      "Pretty printing has been turned OFF\n"
     ]
    }
   ],
   "source": [
    "%matplotlib inline\n",
    "%pprint off\n",
    "\n",
    "# To make some nice plot\n",
    "import matplotlib.pyplot as plt\n",
    "# To play with arrays\n",
    "import numpy as np\n",
    "from skimage import io\n",
    "from skimage import img_as_float\n",
    "from matplotlib import cm"
   ]
  },
  {
   "cell_type": "markdown",
   "metadata": {
    "collapsed": true
   },
   "source": [
    "## Exercise 1- 1D Convolution\n",
    "\n",
    "**1.1** Defining a signal $x$ and an impulse response $h$ as parameters, write a program `conv_fn` to compute the convolution product $y=h*x$. Do not use the python or matlab function and just consider zero padding to solve the border problem.\n",
    "\n",
    "**1.2** Test your function, while using the following signal ($x[n] = \\{\\underline{1},2,3,4\\}$) and following filters, ($\\delta[k]$, $H[k]$, $e^{k}$, and $h = \\{-1, 1\\}$), respectively.\n",
    "\n",
    "**1.3** Consider the previous input signal, write it's extended version while considering `symmetry`, `periodic` and `constant values` padding and $h = H[k-5]$\n",
    "\n"
   ]
  },
  {
   "cell_type": "code",
   "execution_count": 47,
   "metadata": {
    "collapsed": false
   },
   "outputs": [
    {
     "name": "stdout",
     "output_type": "stream",
     "text": [
      "[ 1. -1.]\n",
      "0\n",
      "-1\n",
      "[0.0, 0.0]\n",
      "1\n",
      "0\n",
      "[0.0, 0.0, 0.0, 0.0]\n",
      "2\n",
      "1\n",
      "[0.0, 0.0, 0.0, 0.0, 1.0, 0.0]\n",
      "3\n",
      "2\n",
      "[0.0, 0.0, 0.0, 0.0, 1.0, 0.0, 2.0, 1.0]\n",
      "4\n",
      "3\n",
      "[0.0, 0.0, 0.0, 0.0, 1.0, 0.0, 2.0, 1.0, 3.0, 2.0]\n",
      "5\n",
      "4\n",
      "[0.0, 0.0, 0.0, 0.0, 1.0, 0.0, 2.0, 1.0, 3.0, 2.0, 4.0, 3.0]\n",
      "6\n",
      "5\n",
      "[0.0, 0.0, 0.0, 0.0, 1.0, 0.0, 2.0, 1.0, 3.0, 2.0, 4.0, 3.0, 0.0, 4.0]\n",
      "result 2\n",
      "[ 0.  0.  1.  1.  1.  1. -4.  0.]\n",
      "[-1. -1. -1. -1.  4.]\n"
     ]
    }
   ],
   "source": [
    "def conv_fn(x,h):\n",
    "    \n",
    "    k = len(x) + 2*len(h) #we need to create an array with lengh o\n",
    "    y = np.zeros ((k,))\n",
    "    for i in range (0, len(x)):\n",
    "        y[i+len(h)]=x[i]\n",
    "    h_flip = h[::-1] \n",
    "    print (h_flip)\n",
    "    c = []\n",
    "    b = []\n",
    "   \n",
    "    result = np.zeros ((k,))\n",
    "    for i in range(0, k-1):\n",
    "        result[i] = 0\n",
    "        for j in range (0, len(h) ):\n",
    "            result[i] += y[i-j] * h_flip[j]\n",
    "            print (i-j)\n",
    "            c.append(y[i-j])\n",
    "        \n",
    "        print (c)\n",
    "    \n",
    "    return result\n",
    "\n",
    "\n",
    "\n",
    "\n",
    "\n",
    "x = [1,2,3,4]\n",
    "\n",
    "def step(n=0, N=5):\n",
    "    s = np.zeros((N, ))\n",
    "    for idx_s in np.arange(n, N):\n",
    "        s[idx_s] = 1\n",
    "    \n",
    "    return s\n",
    "\n",
    "def dirac(n=0, N=5):\n",
    "    if n > N - 1:\n",
    "        raise ValueError('n should be inferior to N-1')\n",
    "    s = np.zeros((N, ))\n",
    "    s[n] = 1\n",
    "    \n",
    "    return s\n",
    "h1 = np.array([-1., 1.])\n",
    "k = dirac ()\n",
    "h = step()\n",
    "#resp = conv_fn(x,h)  \n",
    "#resp1 = conv_fn (x,k)\n",
    "y1 = conv_fn(x,h1)\n",
    "y = np.convolve(x,h1)\n",
    "#print ('result 1') \n",
    "#print (resp)\n",
    "#print (y)\n",
    "\n",
    "print ('result 2') \n",
    "print (y1)\n",
    "print (y)\n",
    "\n"
   ]
  },
  {
   "cell_type": "code",
   "execution_count": null,
   "metadata": {
    "collapsed": false
   },
   "outputs": [],
   "source": [
    "plt.figure\n",
    "plt.stem(resp1)\n",
    "plt.title('dirac function & x')\n",
    "plt.show()\n",
    "    \n",
    "plt.figure\n",
    "plt.stem(resp)\n",
    "plt.title('step function & x')\n",
    "plt.show()   \n",
    "\n",
    "plt.figure\n",
    "plt.stem(resp2)\n",
    "plt.title('h={-1,1} & x')\n",
    "plt.show()   \n"
   ]
  },
  {
   "cell_type": "markdown",
   "metadata": {
    "collapsed": false
   },
   "source": [
    "## Exercise 2- 2D Convolution\n",
    "\n",
    "**2.1** Define a 2D convolution function (Only consider zero-padding the image)\n",
    "\n",
    "**2.2** Using your function, smooth the `lena` image with the following Gaussian kernel:\n",
    "$$ K = \\frac{1.}{256}\\begin{bmatrix} 1 & 4 & 6 & 4 & 1 \\\\ 4 & 16 & 24 & 16 & 4 \\\\ 6 & 24 & 36 & 24 & 6 \\\\ 4 & 16 & 24 & 16 & 4 \\\\ 1 & 4 & 6 & 4 & 1 \\end{bmatrix}$$\n",
    "\n",
    "**2.3** Apply sobel filtering using convolution\n"
   ]
  },
  {
   "cell_type": "code",
   "execution_count": 10,
   "metadata": {
    "collapsed": false
   },
   "outputs": [],
   "source": []
  },
  {
   "cell_type": "code",
   "execution_count": 12,
   "metadata": {
    "collapsed": false
   },
   "outputs": [],
   "source": []
  },
  {
   "cell_type": "code",
   "execution_count": null,
   "metadata": {
    "collapsed": false
   },
   "outputs": [],
   "source": []
  },
  {
   "cell_type": "markdown",
   "metadata": {
    "collapsed": true
   },
   "source": [
    "## Exercise 3 - Character recognition using cross-correlation\n",
    "\n",
    "**3.1** load `a.png` and `text.png` images and binarized them using [`threshold_otsu`](http://scikit-image.org/docs/dev/api/skimage.filters.html?highlight=filters#skimage.filters.threshold_otsu)\n",
    "\n",
    "**3.2** Use [`signal.correlate2d`](https://docs.scipy.org/doc/scipy-0.18.1/reference/generated/scipy.signal.correlate2d.html#scipy.signal.correlate2d) from `scipy` to correlate your binarized images.\n",
    "**Note, signal correspond to the bright pixels within and image (invert your masks)**\n",
    "\n",
    "**3.3** Find the first 10 characters recognized as `a`."
   ]
  },
  {
   "cell_type": "code",
   "execution_count": null,
   "metadata": {
    "collapsed": false
   },
   "outputs": [],
   "source": []
  },
  {
   "cell_type": "code",
   "execution_count": 21,
   "metadata": {
    "collapsed": false
   },
   "outputs": [],
   "source": []
  },
  {
   "cell_type": "code",
   "execution_count": null,
   "metadata": {
    "collapsed": false
   },
   "outputs": [],
   "source": []
  }
 ],
 "metadata": {
  "anaconda-cloud": {},
  "kernelspec": {
   "display_name": "Python [conda root]",
   "language": "python",
   "name": "conda-root-py"
  },
  "language_info": {
   "codemirror_mode": {
    "name": "ipython",
    "version": 3
   },
   "file_extension": ".py",
   "mimetype": "text/x-python",
   "name": "python",
   "nbconvert_exporter": "python",
   "pygments_lexer": "ipython3",
   "version": "3.5.2"
  }
 },
 "nbformat": 4,
 "nbformat_minor": 1
}
